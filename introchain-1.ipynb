{
 "cells": [
  {
   "cell_type": "markdown",
   "metadata": {},
   "source": [
    "# Create Large Languge Model (LLM) object\n",
    "\n",
    "You can use any LLM supported by LangChain or a third-party package. Or create your own class.\n",
    "\n",
    "If you use OpenAI, then you need to set OPENAI_API_KEY as an environment variable."
   ]
  },
  {
   "cell_type": "code",
   "execution_count": 1,
   "metadata": {},
   "outputs": [],
   "source": [
    "from langchain_openai import ChatOpenAI\n",
    "from rich.console import Console\n",
    "\n",
    "console = Console()\n",
    "llm = ChatOpenAI(model=\"gpt-4o-mini\")"
   ]
  },
  {
   "cell_type": "markdown",
   "metadata": {},
   "source": [
    "## Basic LLM prompts\n",
    "\n",
    "The LLM object can respond to a prompt in plain text. \n",
    "While we are testing it out, let's test the knowledge cut off."
   ]
  },
  {
   "cell_type": "code",
   "execution_count": 2,
   "metadata": {},
   "outputs": [
    {
     "data": {
      "text/html": [
       "<pre style=\"white-space:pre;overflow-x:auto;line-height:normal;font-family:Menlo,'DejaVu Sans Mono',consolas,'Courier New',monospace\"><span style=\"color: #800080; text-decoration-color: #800080; font-weight: bold\">AIMessage</span><span style=\"font-weight: bold\">(</span>\n",
       "    <span style=\"color: #808000; text-decoration-color: #808000\">content</span>=<span style=\"color: #008000; text-decoration-color: #008000\">'As of my last knowledge update in October 2023, several candidates had announced their intention to </span>\n",
       "<span style=\"color: #008000; text-decoration-color: #008000\">run in the 2024 U.S. Presidential election, including:\\n\\n### Democratic Party\\n- **Joe Biden**: The incumbent </span>\n",
       "<span style=\"color: #008000; text-decoration-color: #008000\">President is running for re-election.\\n\\n### Republican Party\\n- **Donald Trump**: The former President is running </span>\n",
       "<span style=\"color: #008000; text-decoration-color: #008000\">again after losing in 2020.\\n- **Ron DeSantis**: Governor of Florida.\\n- **Nikki Haley**: Former U.N. Ambassador </span>\n",
       "<span style=\"color: #008000; text-decoration-color: #008000\">and Governor of South Carolina.\\n- **Vivek Ramaswamy**: Entrepreneur and author.\\n- **Mike Pence**: Former Vice </span>\n",
       "<span style=\"color: #008000; text-decoration-color: #008000\">President.\\n- **Tim Scott**: Senator from South Carolina.\\n- **Chris Christie**: Former Governor of New </span>\n",
       "<span style=\"color: #008000; text-decoration-color: #008000\">Jersey.\\n\\n### Other Parties/Independents\\nThere may also be candidates from third parties or independent </span>\n",
       "<span style=\"color: #008000; text-decoration-color: #008000\">candidates, but specific names and details about them would depend on the developments closer to the election </span>\n",
       "<span style=\"color: #008000; text-decoration-color: #008000\">date.\\n\\nFor the most current and accurate information, please check reliable news sources, as the political </span>\n",
       "<span style=\"color: #008000; text-decoration-color: #008000\">landscape can change rapidly leading up to the elections.'</span>,\n",
       "    <span style=\"color: #808000; text-decoration-color: #808000\">additional_kwargs</span>=<span style=\"font-weight: bold\">{</span><span style=\"color: #008000; text-decoration-color: #008000\">'refusal'</span>: <span style=\"color: #800080; text-decoration-color: #800080; font-style: italic\">None</span><span style=\"font-weight: bold\">}</span>,\n",
       "    <span style=\"color: #808000; text-decoration-color: #808000\">response_metadata</span>=<span style=\"font-weight: bold\">{</span>\n",
       "        <span style=\"color: #008000; text-decoration-color: #008000\">'token_usage'</span>: <span style=\"font-weight: bold\">{</span>\n",
       "            <span style=\"color: #008000; text-decoration-color: #008000\">'completion_tokens'</span>: <span style=\"color: #008080; text-decoration-color: #008080; font-weight: bold\">218</span>,\n",
       "            <span style=\"color: #008000; text-decoration-color: #008000\">'prompt_tokens'</span>: <span style=\"color: #008080; text-decoration-color: #008080; font-weight: bold\">19</span>,\n",
       "            <span style=\"color: #008000; text-decoration-color: #008000\">'total_tokens'</span>: <span style=\"color: #008080; text-decoration-color: #008080; font-weight: bold\">237</span>,\n",
       "            <span style=\"color: #008000; text-decoration-color: #008000\">'completion_tokens_details'</span>: <span style=\"font-weight: bold\">{</span>\n",
       "                <span style=\"color: #008000; text-decoration-color: #008000\">'accepted_prediction_tokens'</span>: <span style=\"color: #008080; text-decoration-color: #008080; font-weight: bold\">0</span>,\n",
       "                <span style=\"color: #008000; text-decoration-color: #008000\">'audio_tokens'</span>: <span style=\"color: #008080; text-decoration-color: #008080; font-weight: bold\">0</span>,\n",
       "                <span style=\"color: #008000; text-decoration-color: #008000\">'reasoning_tokens'</span>: <span style=\"color: #008080; text-decoration-color: #008080; font-weight: bold\">0</span>,\n",
       "                <span style=\"color: #008000; text-decoration-color: #008000\">'rejected_prediction_tokens'</span>: <span style=\"color: #008080; text-decoration-color: #008080; font-weight: bold\">0</span>\n",
       "            <span style=\"font-weight: bold\">}</span>,\n",
       "            <span style=\"color: #008000; text-decoration-color: #008000\">'prompt_tokens_details'</span>: <span style=\"font-weight: bold\">{</span><span style=\"color: #008000; text-decoration-color: #008000\">'audio_tokens'</span>: <span style=\"color: #008080; text-decoration-color: #008080; font-weight: bold\">0</span>, <span style=\"color: #008000; text-decoration-color: #008000\">'cached_tokens'</span>: <span style=\"color: #008080; text-decoration-color: #008080; font-weight: bold\">0</span><span style=\"font-weight: bold\">}</span>\n",
       "        <span style=\"font-weight: bold\">}</span>,\n",
       "        <span style=\"color: #008000; text-decoration-color: #008000\">'model_name'</span>: <span style=\"color: #008000; text-decoration-color: #008000\">'gpt-4o-mini-2024-07-18'</span>,\n",
       "        <span style=\"color: #008000; text-decoration-color: #008000\">'system_fingerprint'</span>: <span style=\"color: #008000; text-decoration-color: #008000\">'fp_0705bf87c0'</span>,\n",
       "        <span style=\"color: #008000; text-decoration-color: #008000\">'finish_reason'</span>: <span style=\"color: #008000; text-decoration-color: #008000\">'stop'</span>,\n",
       "        <span style=\"color: #008000; text-decoration-color: #008000\">'logprobs'</span>: <span style=\"color: #800080; text-decoration-color: #800080; font-style: italic\">None</span>\n",
       "    <span style=\"font-weight: bold\">}</span>,\n",
       "    <span style=\"color: #808000; text-decoration-color: #808000\">id</span>=<span style=\"color: #008000; text-decoration-color: #008000\">'run-bce79ebc-cab0-4754-b9d0-cddb26f9dd69-0'</span>,\n",
       "    <span style=\"color: #808000; text-decoration-color: #808000\">usage_metadata</span>=<span style=\"font-weight: bold\">{</span>\n",
       "        <span style=\"color: #008000; text-decoration-color: #008000\">'input_tokens'</span>: <span style=\"color: #008080; text-decoration-color: #008080; font-weight: bold\">19</span>,\n",
       "        <span style=\"color: #008000; text-decoration-color: #008000\">'output_tokens'</span>: <span style=\"color: #008080; text-decoration-color: #008080; font-weight: bold\">218</span>,\n",
       "        <span style=\"color: #008000; text-decoration-color: #008000\">'total_tokens'</span>: <span style=\"color: #008080; text-decoration-color: #008080; font-weight: bold\">237</span>,\n",
       "        <span style=\"color: #008000; text-decoration-color: #008000\">'input_token_details'</span>: <span style=\"font-weight: bold\">{</span><span style=\"color: #008000; text-decoration-color: #008000\">'audio'</span>: <span style=\"color: #008080; text-decoration-color: #008080; font-weight: bold\">0</span>, <span style=\"color: #008000; text-decoration-color: #008000\">'cache_read'</span>: <span style=\"color: #008080; text-decoration-color: #008080; font-weight: bold\">0</span><span style=\"font-weight: bold\">}</span>,\n",
       "        <span style=\"color: #008000; text-decoration-color: #008000\">'output_token_details'</span>: <span style=\"font-weight: bold\">{</span><span style=\"color: #008000; text-decoration-color: #008000\">'audio'</span>: <span style=\"color: #008080; text-decoration-color: #008080; font-weight: bold\">0</span>, <span style=\"color: #008000; text-decoration-color: #008000\">'reasoning'</span>: <span style=\"color: #008080; text-decoration-color: #008080; font-weight: bold\">0</span><span style=\"font-weight: bold\">}</span>\n",
       "    <span style=\"font-weight: bold\">}</span>\n",
       "<span style=\"font-weight: bold\">)</span>\n",
       "</pre>\n"
      ],
      "text/plain": [
       "\u001b[1;35mAIMessage\u001b[0m\u001b[1m(\u001b[0m\n",
       "    \u001b[33mcontent\u001b[0m=\u001b[32m'As of my last knowledge update in October 2023, several candidates had announced their intention to \u001b[0m\n",
       "\u001b[32mrun in the 2024 U.S. Presidential election, including:\\n\\n### Democratic Party\\n- **Joe Biden**: The incumbent \u001b[0m\n",
       "\u001b[32mPresident is running for re-election.\\n\\n### Republican Party\\n- **Donald Trump**: The former President is running \u001b[0m\n",
       "\u001b[32magain after losing in 2020.\\n- **Ron DeSantis**: Governor of Florida.\\n- **Nikki Haley**: Former U.N. Ambassador \u001b[0m\n",
       "\u001b[32mand Governor of South Carolina.\\n- **Vivek Ramaswamy**: Entrepreneur and author.\\n- **Mike Pence**: Former Vice \u001b[0m\n",
       "\u001b[32mPresident.\\n- **Tim Scott**: Senator from South Carolina.\\n- **Chris Christie**: Former Governor of New \u001b[0m\n",
       "\u001b[32mJersey.\\n\\n### Other Parties/Independents\\nThere may also be candidates from third parties or independent \u001b[0m\n",
       "\u001b[32mcandidates, but specific names and details about them would depend on the developments closer to the election \u001b[0m\n",
       "\u001b[32mdate.\\n\\nFor the most current and accurate information, please check reliable news sources, as the political \u001b[0m\n",
       "\u001b[32mlandscape can change rapidly leading up to the elections.'\u001b[0m,\n",
       "    \u001b[33madditional_kwargs\u001b[0m=\u001b[1m{\u001b[0m\u001b[32m'refusal'\u001b[0m: \u001b[3;35mNone\u001b[0m\u001b[1m}\u001b[0m,\n",
       "    \u001b[33mresponse_metadata\u001b[0m=\u001b[1m{\u001b[0m\n",
       "        \u001b[32m'token_usage'\u001b[0m: \u001b[1m{\u001b[0m\n",
       "            \u001b[32m'completion_tokens'\u001b[0m: \u001b[1;36m218\u001b[0m,\n",
       "            \u001b[32m'prompt_tokens'\u001b[0m: \u001b[1;36m19\u001b[0m,\n",
       "            \u001b[32m'total_tokens'\u001b[0m: \u001b[1;36m237\u001b[0m,\n",
       "            \u001b[32m'completion_tokens_details'\u001b[0m: \u001b[1m{\u001b[0m\n",
       "                \u001b[32m'accepted_prediction_tokens'\u001b[0m: \u001b[1;36m0\u001b[0m,\n",
       "                \u001b[32m'audio_tokens'\u001b[0m: \u001b[1;36m0\u001b[0m,\n",
       "                \u001b[32m'reasoning_tokens'\u001b[0m: \u001b[1;36m0\u001b[0m,\n",
       "                \u001b[32m'rejected_prediction_tokens'\u001b[0m: \u001b[1;36m0\u001b[0m\n",
       "            \u001b[1m}\u001b[0m,\n",
       "            \u001b[32m'prompt_tokens_details'\u001b[0m: \u001b[1m{\u001b[0m\u001b[32m'audio_tokens'\u001b[0m: \u001b[1;36m0\u001b[0m, \u001b[32m'cached_tokens'\u001b[0m: \u001b[1;36m0\u001b[0m\u001b[1m}\u001b[0m\n",
       "        \u001b[1m}\u001b[0m,\n",
       "        \u001b[32m'model_name'\u001b[0m: \u001b[32m'gpt-4o-mini-2024-07-18'\u001b[0m,\n",
       "        \u001b[32m'system_fingerprint'\u001b[0m: \u001b[32m'fp_0705bf87c0'\u001b[0m,\n",
       "        \u001b[32m'finish_reason'\u001b[0m: \u001b[32m'stop'\u001b[0m,\n",
       "        \u001b[32m'logprobs'\u001b[0m: \u001b[3;35mNone\u001b[0m\n",
       "    \u001b[1m}\u001b[0m,\n",
       "    \u001b[33mid\u001b[0m=\u001b[32m'run-bce79ebc-cab0-4754-b9d0-cddb26f9dd69-0'\u001b[0m,\n",
       "    \u001b[33musage_metadata\u001b[0m=\u001b[1m{\u001b[0m\n",
       "        \u001b[32m'input_tokens'\u001b[0m: \u001b[1;36m19\u001b[0m,\n",
       "        \u001b[32m'output_tokens'\u001b[0m: \u001b[1;36m218\u001b[0m,\n",
       "        \u001b[32m'total_tokens'\u001b[0m: \u001b[1;36m237\u001b[0m,\n",
       "        \u001b[32m'input_token_details'\u001b[0m: \u001b[1m{\u001b[0m\u001b[32m'audio'\u001b[0m: \u001b[1;36m0\u001b[0m, \u001b[32m'cache_read'\u001b[0m: \u001b[1;36m0\u001b[0m\u001b[1m}\u001b[0m,\n",
       "        \u001b[32m'output_token_details'\u001b[0m: \u001b[1m{\u001b[0m\u001b[32m'audio'\u001b[0m: \u001b[1;36m0\u001b[0m, \u001b[32m'reasoning'\u001b[0m: \u001b[1;36m0\u001b[0m\u001b[1m}\u001b[0m\n",
       "    \u001b[1m}\u001b[0m\n",
       "\u001b[1m)\u001b[0m\n"
      ]
     },
     "metadata": {},
     "output_type": "display_data"
    }
   ],
   "source": [
    "question = \"Who will run in the 2024 US Presidential election?\"\n",
    "console.print(llm.invoke(question))"
   ]
  },
  {
   "cell_type": "markdown",
   "metadata": {},
   "source": [
    "# Creating a chain\n",
    "\n",
    "You might notice that the output of the LLM is a big complex `AIMessage` object. If we just want to extract the text as a string, we can use the `StrOutputParser` class.\n",
    "\n",
    "You string a `chain` together with the pipe symbol `|`."
   ]
  },
  {
   "cell_type": "code",
   "execution_count": 3,
   "metadata": {},
   "outputs": [
    {
     "data": {
      "text/html": [
       "<pre style=\"white-space:pre;overflow-x:auto;line-height:normal;font-family:Menlo,'DejaVu Sans Mono',consolas,'Courier New',monospace\">As of my last update in October <span style=\"color: #008080; text-decoration-color: #008080; font-weight: bold\">2023</span>, several candidates had declared their intentions to run in the <span style=\"color: #008080; text-decoration-color: #008080; font-weight: bold\">2024</span> U.S. \n",
       "presidential election. On the Democratic side, President Joe Biden is expected to seek re-election. On the \n",
       "Republican side, notable candidates include former President Donald Trump, Florida Governor Ron DeSantis, and \n",
       "former United Nations Ambassador Nikki Haley, among others. There may also be candidates from third parties or \n",
       "independent runs, but specific details can change rapidly as the election approaches. For the most current \n",
       "information, I recommend checking reputable news sources.\n",
       "</pre>\n"
      ],
      "text/plain": [
       "As of my last update in October \u001b[1;36m2023\u001b[0m, several candidates had declared their intentions to run in the \u001b[1;36m2024\u001b[0m U.S. \n",
       "presidential election. On the Democratic side, President Joe Biden is expected to seek re-election. On the \n",
       "Republican side, notable candidates include former President Donald Trump, Florida Governor Ron DeSantis, and \n",
       "former United Nations Ambassador Nikki Haley, among others. There may also be candidates from third parties or \n",
       "independent runs, but specific details can change rapidly as the election approaches. For the most current \n",
       "information, I recommend checking reputable news sources.\n"
      ]
     },
     "metadata": {},
     "output_type": "display_data"
    }
   ],
   "source": [
    "from langchain.schema.output_parser import StrOutputParser\n",
    "\n",
    "parser = StrOutputParser()\n",
    "chain = llm | parser\n",
    "console.print(chain.invoke(question))"
   ]
  },
  {
   "cell_type": "markdown",
   "metadata": {},
   "source": [
    "## Prompt templates\n",
    "\n",
    "To create a prompt template, you can use the `PromptTemplate` class. This class allows you to create a template with placeholders that you can fill in later.\n",
    "\n",
    "It is useful when you want to create a prompt that you can reuse with different values."
   ]
  },
  {
   "cell_type": "code",
   "execution_count": 4,
   "metadata": {},
   "outputs": [
    {
     "data": {
      "text/html": [
       "<pre style=\"white-space:pre;overflow-x:auto;line-height:normal;font-family:Menlo,'DejaVu Sans Mono',consolas,'Courier New',monospace\">In whispered dreams where two hearts align,  \n",
       "Love's gentle glow transforms the mundane to divine.\n",
       "</pre>\n"
      ],
      "text/plain": [
       "In whispered dreams where two hearts align,  \n",
       "Love's gentle glow transforms the mundane to divine.\n"
      ]
     },
     "metadata": {},
     "output_type": "display_data"
    }
   ],
   "source": [
    "from langchain_core.prompts.prompt import PromptTemplate\n",
    "\n",
    "template = PromptTemplate.from_template(\"Write a couplet about {topic}.\")\n",
    "chain = template | llm | parser\n",
    "console.print(chain.invoke(\"love\"))"
   ]
  },
  {
   "cell_type": "markdown",
   "metadata": {},
   "source": [
    "# Batch processing\n",
    "\n",
    "You can also process multiple prompts in a batch. This is useful when you want to process multiple prompts at once.\n",
    "\n",
    "Behind the scenes, the LangChain will run the prompts in parallel to speed up the processing."
   ]
  },
  {
   "cell_type": "code",
   "execution_count": 5,
   "metadata": {},
   "outputs": [
    {
     "data": {
      "text/html": [
       "<pre style=\"white-space:pre;overflow-x:auto;line-height:normal;font-family:Menlo,'DejaVu Sans Mono',consolas,'Courier New',monospace\"><span style=\"font-weight: bold\">Couplet about cats:</span>\n",
       "In shadows sleek, with grace they roam,  \n",
       "Whiskered whispers, they make our hearts their home.\n",
       "</pre>\n"
      ],
      "text/plain": [
       "\u001b[1mCouplet about cats:\u001b[0m\n",
       "In shadows sleek, with grace they roam,  \n",
       "Whiskered whispers, they make our hearts their home.\n"
      ]
     },
     "metadata": {},
     "output_type": "display_data"
    },
    {
     "data": {
      "text/html": [
       "<pre style=\"white-space:pre;overflow-x:auto;line-height:normal;font-family:Menlo,'DejaVu Sans Mono',consolas,'Courier New',monospace\"><span style=\"font-weight: bold\">Couplet about dogs:</span>\n",
       "With wagging tails and eyes so bright,  \n",
       "Dogs bring pure joy, our hearts' delight.\n",
       "</pre>\n"
      ],
      "text/plain": [
       "\u001b[1mCouplet about dogs:\u001b[0m\n",
       "With wagging tails and eyes so bright,  \n",
       "Dogs bring pure joy, our hearts' delight.\n"
      ]
     },
     "metadata": {},
     "output_type": "display_data"
    },
    {
     "data": {
      "text/html": [
       "<pre style=\"white-space:pre;overflow-x:auto;line-height:normal;font-family:Menlo,'DejaVu Sans Mono',consolas,'Courier New',monospace\"><span style=\"font-weight: bold\">Couplet about birds:</span>\n",
       "In skies of blue, the songbirds weave,  \n",
       "A tapestry of melodies, hearts believe.\n",
       "</pre>\n"
      ],
      "text/plain": [
       "\u001b[1mCouplet about birds:\u001b[0m\n",
       "In skies of blue, the songbirds weave,  \n",
       "A tapestry of melodies, hearts believe.\n"
      ]
     },
     "metadata": {},
     "output_type": "display_data"
    }
   ],
   "source": [
    "topics = [\"cats\", \"dogs\", \"birds\"]\n",
    "couplets = chain.batch(topics)\n",
    "for topic, couplet in zip(topics, couplets):\n",
    "    console.print(f\"[bold]Couplet about {topic}:[/bold]\\n{couplet}\")"
   ]
  },
  {
   "cell_type": "markdown",
   "metadata": {},
   "source": [
    "# Prompt Structure\n",
    "The fine-tuning of Chat/Instruct LLMs often uses a `System` role, a `Human` role and an `AI` role. \n",
    "The `System` role is the one that provides the context. \n",
    "The `Human` role is the one that provides the input.\n",
    "The `AI` role is the one that provides the output from the LLM."
   ]
  },
  {
   "cell_type": "code",
   "execution_count": 6,
   "metadata": {},
   "outputs": [
    {
     "data": {
      "text/html": [
       "<pre style=\"white-space:pre;overflow-x:auto;line-height:normal;font-family:Menlo,'DejaVu Sans Mono',consolas,'Courier New',monospace\">Love is like a warm, bright sun,  \n",
       "It makes us smile and have lots of fun!\n",
       "</pre>\n"
      ],
      "text/plain": [
       "Love is like a warm, bright sun,  \n",
       "It makes us smile and have lots of fun!\n"
      ]
     },
     "metadata": {},
     "output_type": "display_data"
    }
   ],
   "source": [
    "from langchain_core.prompts import ChatPromptTemplate\n",
    "\n",
    "template = ChatPromptTemplate([\n",
    "    (\"system\", \"You are a 5 year old kid.\"),\n",
    "    (\"human\", \"Write a couplet about {topic}.\"),\n",
    "    (\"ai\", \"Sure, here it is:\"),\n",
    "])\n",
    "\n",
    "chain = template | llm | parser\n",
    "console.print(chain.invoke(\"love\"))"
   ]
  },
  {
   "cell_type": "markdown",
   "metadata": {},
   "source": [
    "# Reading from an XML file\n",
    "Let's build a chain that reads from a file, gets the abstract and summarises the content. \n",
    "\n",
    "First let's write a function to get an abstract from an XML file.\n"
   ]
  },
  {
   "cell_type": "code",
   "execution_count": 9,
   "metadata": {},
   "outputs": [
    {
     "data": {
      "text/html": [
       "<pre style=\"white-space:pre;overflow-x:auto;line-height:normal;font-family:Menlo,'DejaVu Sans Mono',consolas,'Courier New',monospace\">This meta-analysis compared the efficacy and safety of desvenlafaxine and venlafaxine at the Australian approved \n",
       "doses. A systematic literature search was conducted to identify all placebo-controlled studies of desvenlafaxine \n",
       "and venlafaxine in the treatment of major depression. The pivotal outcome measure used to assess comparative \n",
       "efficacy was the mean change in Hamilton Rating Scale for Depression-<span style=\"color: #008080; text-decoration-color: #008080; font-weight: bold\">17</span> score from baseline. Tolerability and \n",
       "safety were compared by an evaluation of reported adverse events. Standard and Bayesian methods were used to \n",
       "conduct the indirect comparisons.                                       Findings               Using a mixed model \n",
       "repeated measures analysis, the pooled weighted mean difference for the mean change in Hamilton Rating Scale for \n",
       "Depression-<span style=\"color: #008080; text-decoration-color: #008080; font-weight: bold\">17</span> score from baseline was <span style=\"color: #008080; text-decoration-color: #008080; font-weight: bold\">-2.81</span> <span style=\"font-weight: bold\">(</span><span style=\"color: #008080; text-decoration-color: #008080; font-weight: bold\">-3.72</span>, <span style=\"color: #008080; text-decoration-color: #008080; font-weight: bold\">-1.91</span>; p &lt; <span style=\"color: #008080; text-decoration-color: #008080; font-weight: bold\">0.001</span><span style=\"font-weight: bold\">)</span> for desvenlafaxine and <span style=\"color: #008080; text-decoration-color: #008080; font-weight: bold\">-2.61</span> <span style=\"font-weight: bold\">(</span><span style=\"color: #008080; text-decoration-color: #008080; font-weight: bold\">-3.17</span>, <span style=\"color: #008080; text-decoration-color: #008080; font-weight: bold\">-2.05</span>; p\n",
       "&lt; <span style=\"color: #008080; text-decoration-color: #008080; font-weight: bold\">0.001</span><span style=\"font-weight: bold\">)</span> for venlafaxine. An indirect Bayesian analysis adjusted for baseline Hamilton Rating Scale for \n",
       "Depression-<span style=\"color: #008080; text-decoration-color: #008080; font-weight: bold\">17</span> score showed no significant difference between the two treatments <span style=\"font-weight: bold\">(</span>weighted mean difference <span style=\"color: #008080; text-decoration-color: #008080; font-weight: bold\">-0.27</span>; \n",
       "<span style=\"color: #008080; text-decoration-color: #008080; font-weight: bold\">-1.17</span>, <span style=\"color: #008080; text-decoration-color: #008080; font-weight: bold\">0.65</span><span style=\"font-weight: bold\">)</span>. A standard indirect comparison of any adverse events showed no significant difference between \n",
       "desvenlafaxine and venlafaxine <span style=\"font-weight: bold\">(</span>relative risk <span style=\"color: #008080; text-decoration-color: #008080; font-weight: bold\">1.01</span>; <span style=\"color: #008080; text-decoration-color: #008080; font-weight: bold\">0.96</span>, <span style=\"color: #008080; text-decoration-color: #008080; font-weight: bold\">1.06</span>; p = <span style=\"color: #008080; text-decoration-color: #008080; font-weight: bold\">0.70</span> and risk difference <span style=\"color: #008080; text-decoration-color: #008080; font-weight: bold\">-0.01</span>; <span style=\"color: #008080; text-decoration-color: #008080; font-weight: bold\">-0.05</span>, <span style=\"color: #008080; text-decoration-color: #008080; font-weight: bold\">0.03</span>; p \n",
       "= <span style=\"color: #008080; text-decoration-color: #008080; font-weight: bold\">0.59</span><span style=\"font-weight: bold\">)</span>. Standard indirect comparisons of both nausea and drop-outs identified potential differences between \n",
       "treatments, with the risk difference analyses suggesting a trend in favor of desvenlafaxine <span style=\"font-weight: bold\">(</span>nausea: relative risk \n",
       "<span style=\"color: #008080; text-decoration-color: #008080; font-weight: bold\">0.97</span>; <span style=\"color: #008080; text-decoration-color: #008080; font-weight: bold\">0.77</span>, <span style=\"color: #008080; text-decoration-color: #008080; font-weight: bold\">1.22</span>; p = <span style=\"color: #008080; text-decoration-color: #008080; font-weight: bold\">0.80</span>/RD <span style=\"color: #008080; text-decoration-color: #008080; font-weight: bold\">-0.07</span>; <span style=\"color: #008080; text-decoration-color: #008080; font-weight: bold\">-0.12</span>, <span style=\"color: #008080; text-decoration-color: #008080; font-weight: bold\">-0.01</span>; p = <span style=\"color: #008080; text-decoration-color: #008080; font-weight: bold\">0.02</span>; and drop-outs due to adverse events: RR <span style=\"color: #008080; text-decoration-color: #008080; font-weight: bold\">0.86</span>; <span style=\"color: #008080; text-decoration-color: #008080; font-weight: bold\">0.58</span>, \n",
       "<span style=\"color: #008080; text-decoration-color: #008080; font-weight: bold\">1.29</span>; p = <span style=\"color: #008080; text-decoration-color: #008080; font-weight: bold\">0.48</span>/RD <span style=\"color: #008080; text-decoration-color: #008080; font-weight: bold\">-0.04</span>; <span style=\"color: #008080; text-decoration-color: #008080; font-weight: bold\">-0.08</span>, <span style=\"color: #008080; text-decoration-color: #008080; font-weight: bold\">0.00</span>; p = <span style=\"color: #008080; text-decoration-color: #008080; font-weight: bold\">0.06</span><span style=\"font-weight: bold\">)</span>. Based on the results of this meta-analysis, desvenlafaxine was \n",
       "shown to be non-inferior to venlafaxine in terms of efficacy, and has an advantage in terms of less nausea.\n",
       "</pre>\n"
      ],
      "text/plain": [
       "This meta-analysis compared the efficacy and safety of desvenlafaxine and venlafaxine at the Australian approved \n",
       "doses. A systematic literature search was conducted to identify all placebo-controlled studies of desvenlafaxine \n",
       "and venlafaxine in the treatment of major depression. The pivotal outcome measure used to assess comparative \n",
       "efficacy was the mean change in Hamilton Rating Scale for Depression-\u001b[1;36m17\u001b[0m score from baseline. Tolerability and \n",
       "safety were compared by an evaluation of reported adverse events. Standard and Bayesian methods were used to \n",
       "conduct the indirect comparisons.                                       Findings               Using a mixed model \n",
       "repeated measures analysis, the pooled weighted mean difference for the mean change in Hamilton Rating Scale for \n",
       "Depression-\u001b[1;36m17\u001b[0m score from baseline was \u001b[1;36m-2.81\u001b[0m \u001b[1m(\u001b[0m\u001b[1;36m-3.72\u001b[0m, \u001b[1;36m-1.91\u001b[0m; p < \u001b[1;36m0.001\u001b[0m\u001b[1m)\u001b[0m for desvenlafaxine and \u001b[1;36m-2.61\u001b[0m \u001b[1m(\u001b[0m\u001b[1;36m-3.17\u001b[0m, \u001b[1;36m-2.05\u001b[0m; p\n",
       "< \u001b[1;36m0.001\u001b[0m\u001b[1m)\u001b[0m for venlafaxine. An indirect Bayesian analysis adjusted for baseline Hamilton Rating Scale for \n",
       "Depression-\u001b[1;36m17\u001b[0m score showed no significant difference between the two treatments \u001b[1m(\u001b[0mweighted mean difference \u001b[1;36m-0.27\u001b[0m; \n",
       "\u001b[1;36m-1.17\u001b[0m, \u001b[1;36m0.65\u001b[0m\u001b[1m)\u001b[0m. A standard indirect comparison of any adverse events showed no significant difference between \n",
       "desvenlafaxine and venlafaxine \u001b[1m(\u001b[0mrelative risk \u001b[1;36m1.01\u001b[0m; \u001b[1;36m0.96\u001b[0m, \u001b[1;36m1.06\u001b[0m; p = \u001b[1;36m0.70\u001b[0m and risk difference \u001b[1;36m-0.01\u001b[0m; \u001b[1;36m-0.05\u001b[0m, \u001b[1;36m0.03\u001b[0m; p \n",
       "= \u001b[1;36m0.59\u001b[0m\u001b[1m)\u001b[0m. Standard indirect comparisons of both nausea and drop-outs identified potential differences between \n",
       "treatments, with the risk difference analyses suggesting a trend in favor of desvenlafaxine \u001b[1m(\u001b[0mnausea: relative risk \n",
       "\u001b[1;36m0.97\u001b[0m; \u001b[1;36m0.77\u001b[0m, \u001b[1;36m1.22\u001b[0m; p = \u001b[1;36m0.80\u001b[0m/RD \u001b[1;36m-0.07\u001b[0m; \u001b[1;36m-0.12\u001b[0m, \u001b[1;36m-0.01\u001b[0m; p = \u001b[1;36m0.02\u001b[0m; and drop-outs due to adverse events: RR \u001b[1;36m0.86\u001b[0m; \u001b[1;36m0.58\u001b[0m, \n",
       "\u001b[1;36m1.29\u001b[0m; p = \u001b[1;36m0.48\u001b[0m/RD \u001b[1;36m-0.04\u001b[0m; \u001b[1;36m-0.08\u001b[0m, \u001b[1;36m0.00\u001b[0m; p = \u001b[1;36m0.06\u001b[0m\u001b[1m)\u001b[0m. Based on the results of this meta-analysis, desvenlafaxine was \n",
       "shown to be non-inferior to venlafaxine in terms of efficacy, and has an advantage in terms of less nausea.\n"
      ]
     },
     "metadata": {},
     "output_type": "display_data"
    }
   ],
   "source": [
    "from pathlib import Path\n",
    "from bs4 import BeautifulSoup\n",
    "\n",
    "pubmed_dir = Path(\"pubmed\")\n",
    "def read_abstract(pmid:str) -> str:\n",
    "    path = pubmed_dir / f\"{pmid}.xml\"\n",
    "    xml_data = path.read_text()\n",
    "    soup = BeautifulSoup(xml_data, 'xml')\n",
    "    abstract_text = ' '.join(tag.get_text() for tag in soup.find_all('AbstractText'))\n",
    "    return abstract_text\n",
    "\n",
    "console.print(read_abstract(\"22883424\"))"
   ]
  },
  {
   "cell_type": "markdown",
   "metadata": {},
   "source": [
    "# Use a function with a chain\n",
    "\n",
    "You can often use use a function with a chain."
   ]
  },
  {
   "cell_type": "code",
   "execution_count": 11,
   "metadata": {},
   "outputs": [
    {
     "data": {
      "text/html": [
       "<pre style=\"white-space:pre;overflow-x:auto;line-height:normal;font-family:Menlo,'DejaVu Sans Mono',consolas,'Courier New',monospace\">A systematic literature search identified placebo-controlled studies comparing desvenlafaxine and venlafaxine for \n",
       "major depression. The primary efficacy measure was the mean change in Hamilton Rating Scale for Depression-<span style=\"color: #008080; text-decoration-color: #008080; font-weight: bold\">17</span> \n",
       "scores. Both standard and Bayesian methods were used for indirect comparisons of efficacy and safety, focusing on \n",
       "adverse events and tolerability.\n",
       "</pre>\n"
      ],
      "text/plain": [
       "A systematic literature search identified placebo-controlled studies comparing desvenlafaxine and venlafaxine for \n",
       "major depression. The primary efficacy measure was the mean change in Hamilton Rating Scale for Depression-\u001b[1;36m17\u001b[0m \n",
       "scores. Both standard and Bayesian methods were used for indirect comparisons of efficacy and safety, focusing on \n",
       "adverse events and tolerability.\n"
      ]
     },
     "metadata": {},
     "output_type": "display_data"
    }
   ],
   "source": [
    "template = ChatPromptTemplate([\n",
    "    (\"system\", \"You are a bioinformatician with experience in statistics and data science.\"),\n",
    "    (\"human\", \"Read the abstract and summarize the methodology used in around 50 words:\\n{abstract}\"),\n",
    "    (\"ai\", \"Certainly, here is a summary of the methodology:\"),\n",
    "])\n",
    "chain =  read_abstract | template | llm | parser\n",
    "console.print(chain.invoke(\"22883424\"))"
   ]
  },
  {
   "cell_type": "code",
   "execution_count": 17,
   "metadata": {},
   "outputs": [
    {
     "data": {
      "text/html": [
       "<pre style=\"white-space:pre;overflow-x:auto;line-height:normal;font-family:Menlo,'DejaVu Sans Mono',consolas,'Courier New',monospace\"><span style=\"font-weight: bold\">Summary of </span><span style=\"color: #008080; text-decoration-color: #008080; font-weight: bold\">22894826</span><span style=\"font-weight: bold\">:</span>\n",
       "The study employed a search algorithm to identify <span style=\"color: #008080; text-decoration-color: #008080; font-weight: bold\">44</span> conserved genes across <span style=\"color: #008080; text-decoration-color: #008080; font-weight: bold\">22</span> cyanobacterial taxa. Phylogenetic \n",
       "analysis supported distinct positions for two basal species based on gene copy numbers. The correlation between \n",
       "ribosomal gene copies and terminal cell differentiation was examined, alongside comparisons of 16S rRNA variation \n",
       "with other eubacterial phyla using Bayesian phylogenetic inference.\n",
       "</pre>\n"
      ],
      "text/plain": [
       "\u001b[1mSummary of \u001b[0m\u001b[1;36m22894826\u001b[0m\u001b[1m:\u001b[0m\n",
       "The study employed a search algorithm to identify \u001b[1;36m44\u001b[0m conserved genes across \u001b[1;36m22\u001b[0m cyanobacterial taxa. Phylogenetic \n",
       "analysis supported distinct positions for two basal species based on gene copy numbers. The correlation between \n",
       "ribosomal gene copies and terminal cell differentiation was examined, alongside comparisons of 16S rRNA variation \n",
       "with other eubacterial phyla using Bayesian phylogenetic inference.\n"
      ]
     },
     "metadata": {},
     "output_type": "display_data"
    },
    {
     "data": {
      "text/html": [
       "<pre style=\"white-space:pre;overflow-x:auto;line-height:normal;font-family:Menlo,'DejaVu Sans Mono',consolas,'Courier New',monospace\"><span style=\"font-weight: bold\">Summary of </span><span style=\"color: #008080; text-decoration-color: #008080; font-weight: bold\">34351721</span><span style=\"font-weight: bold\">:</span>\n",
       "In this open-label, adaptive, multiplatform trial, noncritically ill hospitalized Covid-<span style=\"color: #008080; text-decoration-color: #008080; font-weight: bold\">19</span> patients were randomly \n",
       "assigned to receive either therapeutic-dose anticoagulation with heparin or usual-care thromboprophylaxis. The \n",
       "primary outcome, organ support-free days, was assessed using a Bayesian model, considering in-hospital death and \n",
       "days free of organ support. The trial concluded when superiority criteria for anticoagulation were met.\n",
       "</pre>\n"
      ],
      "text/plain": [
       "\u001b[1mSummary of \u001b[0m\u001b[1;36m34351721\u001b[0m\u001b[1m:\u001b[0m\n",
       "In this open-label, adaptive, multiplatform trial, noncritically ill hospitalized Covid-\u001b[1;36m19\u001b[0m patients were randomly \n",
       "assigned to receive either therapeutic-dose anticoagulation with heparin or usual-care thromboprophylaxis. The \n",
       "primary outcome, organ support-free days, was assessed using a Bayesian model, considering in-hospital death and \n",
       "days free of organ support. The trial concluded when superiority criteria for anticoagulation were met.\n"
      ]
     },
     "metadata": {},
     "output_type": "display_data"
    },
    {
     "data": {
      "text/html": [
       "<pre style=\"white-space:pre;overflow-x:auto;line-height:normal;font-family:Menlo,'DejaVu Sans Mono',consolas,'Courier New',monospace\"><span style=\"font-weight: bold\">Summary of </span><span style=\"color: #008080; text-decoration-color: #008080; font-weight: bold\">22883424</span><span style=\"font-weight: bold\">:</span>\n",
       "The meta-analysis involved a systematic literature search for placebo-controlled studies comparing desvenlafaxine \n",
       "and venlafaxine for major depression. Efficacy was assessed using the mean change in the Hamilton Rating Scale for \n",
       "Depression-<span style=\"color: #008080; text-decoration-color: #008080; font-weight: bold\">17</span> score, while safety was evaluated through adverse events. Standard and Bayesian methods were employed\n",
       "for indirect comparisons.\n",
       "</pre>\n"
      ],
      "text/plain": [
       "\u001b[1mSummary of \u001b[0m\u001b[1;36m22883424\u001b[0m\u001b[1m:\u001b[0m\n",
       "The meta-analysis involved a systematic literature search for placebo-controlled studies comparing desvenlafaxine \n",
       "and venlafaxine for major depression. Efficacy was assessed using the mean change in the Hamilton Rating Scale for \n",
       "Depression-\u001b[1;36m17\u001b[0m score, while safety was evaluated through adverse events. Standard and Bayesian methods were employed\n",
       "for indirect comparisons.\n"
      ]
     },
     "metadata": {},
     "output_type": "display_data"
    },
    {
     "data": {
      "text/html": [
       "<pre style=\"white-space:pre;overflow-x:auto;line-height:normal;font-family:Menlo,'DejaVu Sans Mono',consolas,'Courier New',monospace\"><span style=\"font-weight: bold\">Summary of </span><span style=\"color: #008080; text-decoration-color: #008080; font-weight: bold\">34290493</span><span style=\"font-weight: bold\">:</span>\n",
       "The proposed biclustering method employs a generalized Bayesian factor analysis framework, utilizing a sparse \n",
       "variational EM algorithm for parameter estimation. It integrates biological information represented as graphs and \n",
       "accommodates both continuous and discrete data types. Biclusters are identified through sparse estimates of factor \n",
       "loadings and conditional expectations of latent factors, demonstrating improved performance in multi-omics data \n",
       "analysis.\n",
       "</pre>\n"
      ],
      "text/plain": [
       "\u001b[1mSummary of \u001b[0m\u001b[1;36m34290493\u001b[0m\u001b[1m:\u001b[0m\n",
       "The proposed biclustering method employs a generalized Bayesian factor analysis framework, utilizing a sparse \n",
       "variational EM algorithm for parameter estimation. It integrates biological information represented as graphs and \n",
       "accommodates both continuous and discrete data types. Biclusters are identified through sparse estimates of factor \n",
       "loadings and conditional expectations of latent factors, demonstrating improved performance in multi-omics data \n",
       "analysis.\n"
      ]
     },
     "metadata": {},
     "output_type": "display_data"
    },
    {
     "data": {
      "text/html": [
       "<pre style=\"white-space:pre;overflow-x:auto;line-height:normal;font-family:Menlo,'DejaVu Sans Mono',consolas,'Courier New',monospace\"><span style=\"font-weight: bold\">Summary of </span><span style=\"color: #008080; text-decoration-color: #008080; font-weight: bold\">28250509</span><span style=\"font-weight: bold\">:</span>\n",
       "The study utilized the Complex Emergency Database to identify nutrition surveys in Ethiopia from <span style=\"color: #008080; text-decoration-color: #008080; font-weight: bold\">2000</span> to <span style=\"color: #008080; text-decoration-color: #008080; font-weight: bold\">2013</span>, \n",
       "focusing on children aged <span style=\"color: #008080; text-decoration-color: #008080; font-weight: bold\">6</span>-<span style=\"color: #008080; text-decoration-color: #008080; font-weight: bold\">59</span> months with wasting defined by weight-for-height z-scores below <span style=\"color: #008080; text-decoration-color: #008080; font-weight: bold\">-2</span>. Data on conflict\n",
       "and drought events were collected from public sources. A random-effects Bayesian meta-analysis synthesized findings\n",
       "from <span style=\"color: #008080; text-decoration-color: #008080; font-weight: bold\">231</span> surveys, analyzing <span style=\"color: #008080; text-decoration-color: #008080; font-weight: bold\">175</span>,<span style=\"color: #008080; text-decoration-color: #008080; font-weight: bold\">607</span> children to estimate prevalence and impacts.\n",
       "</pre>\n"
      ],
      "text/plain": [
       "\u001b[1mSummary of \u001b[0m\u001b[1;36m28250509\u001b[0m\u001b[1m:\u001b[0m\n",
       "The study utilized the Complex Emergency Database to identify nutrition surveys in Ethiopia from \u001b[1;36m2000\u001b[0m to \u001b[1;36m2013\u001b[0m, \n",
       "focusing on children aged \u001b[1;36m6\u001b[0m-\u001b[1;36m59\u001b[0m months with wasting defined by weight-for-height z-scores below \u001b[1;36m-2\u001b[0m. Data on conflict\n",
       "and drought events were collected from public sources. A random-effects Bayesian meta-analysis synthesized findings\n",
       "from \u001b[1;36m231\u001b[0m surveys, analyzing \u001b[1;36m175\u001b[0m,\u001b[1;36m607\u001b[0m children to estimate prevalence and impacts.\n"
      ]
     },
     "metadata": {},
     "output_type": "display_data"
    },
    {
     "data": {
      "text/html": [
       "<pre style=\"white-space:pre;overflow-x:auto;line-height:normal;font-family:Menlo,'DejaVu Sans Mono',consolas,'Courier New',monospace\"><span style=\"font-weight: bold\">Summary of </span><span style=\"color: #008080; text-decoration-color: #008080; font-weight: bold\">31492041</span><span style=\"font-weight: bold\">:</span>\n",
       "The study employed Bayesian genomic models to predict quantitative traits related to wood quality and tree growth \n",
       "in a <span style=\"color: #008080; text-decoration-color: #008080; font-weight: bold\">6</span>-year-old Eucalyptus globulus breeding population. It assessed approximately <span style=\"color: #008080; text-decoration-color: #008080; font-weight: bold\">14</span>,<span style=\"color: #008080; text-decoration-color: #008080; font-weight: bold\">000</span> SNP markers and <span style=\"color: #008080; text-decoration-color: #008080; font-weight: bold\">3</span>,<span style=\"color: #008080; text-decoration-color: #008080; font-weight: bold\">000</span> \n",
       "haplotypes, evaluating predictive ability across models. Bayesian ridge regression <span style=\"font-weight: bold\">(</span>BRR<span style=\"font-weight: bold\">)</span> and Bayes C showed the \n",
       "highest predictive ability, particularly for low-heritability traits when haplotype effects were included.\n",
       "</pre>\n"
      ],
      "text/plain": [
       "\u001b[1mSummary of \u001b[0m\u001b[1;36m31492041\u001b[0m\u001b[1m:\u001b[0m\n",
       "The study employed Bayesian genomic models to predict quantitative traits related to wood quality and tree growth \n",
       "in a \u001b[1;36m6\u001b[0m-year-old Eucalyptus globulus breeding population. It assessed approximately \u001b[1;36m14\u001b[0m,\u001b[1;36m000\u001b[0m SNP markers and \u001b[1;36m3\u001b[0m,\u001b[1;36m000\u001b[0m \n",
       "haplotypes, evaluating predictive ability across models. Bayesian ridge regression \u001b[1m(\u001b[0mBRR\u001b[1m)\u001b[0m and Bayes C showed the \n",
       "highest predictive ability, particularly for low-heritability traits when haplotype effects were included.\n"
      ]
     },
     "metadata": {},
     "output_type": "display_data"
    }
   ],
   "source": [
    "pmids = [path.stem for path in pubmed_dir.glob(\"*.xml\")]\n",
    "summaries = chain.batch(pmids)\n",
    "for pmid, summary in zip(pmids, summaries):\n",
    "    console.print(f\"[bold]Summary of {pmid}:[/bold]\\n{summary}\")"
   ]
  },
  {
   "cell_type": "markdown",
   "metadata": {},
   "source": [
    "# Chain of Thought (CoT)\n",
    "\n",
    "Let's create a CoT that reads from an XML file, gets the abstract and answers a question."
   ]
  },
  {
   "cell_type": "code",
   "execution_count": 19,
   "metadata": {},
   "outputs": [
    {
     "data": {
      "text/html": [
       "<pre style=\"white-space:pre;overflow-x:auto;line-height:normal;font-family:Menlo,'DejaVu Sans Mono',consolas,'Courier New',monospace\">To analyze whether the article explicitly or implicitly uses Bayesian inference in its methodology, we can break \n",
       "down the information provided in the abstract step-by-step. \n",
       "\n",
       "### Step <span style=\"color: #008080; text-decoration-color: #008080; font-weight: bold\">1</span>: Identify the Purpose of the Study\n",
       "The meta-analysis compares the efficacy and safety of two medications, desvenlafaxine and venlafaxine, for treating\n",
       "major depression. \n",
       "\n",
       "### Step <span style=\"color: #008080; text-decoration-color: #008080; font-weight: bold\">2</span>: Identify the Statistical Methods Used\n",
       "The abstract mentions that both <span style=\"color: #008000; text-decoration-color: #008000\">\"standard and Bayesian methods were used to conduct the indirect comparisons.\"</span> This\n",
       "is a key indication that Bayesian inference is part of the methodology.\n",
       "\n",
       "### Step <span style=\"color: #008080; text-decoration-color: #008080; font-weight: bold\">3</span>: Examine the Findings\n",
       "- **Mixed Model Repeated Measures Analysis**: The use of this method suggests a traditional frequentist approach to\n",
       "analyzing the mean changes in Hamilton Rating Scale scores for both drugs.\n",
       "- **Indirect Bayesian Analysis**: The mention of an <span style=\"color: #008000; text-decoration-color: #008000\">\"indirect Bayesian analysis\"</span> that adjusted for baseline \n",
       "Hamilton Rating Scale scores indicates an explicit use of Bayesian methodology. This contrasts with the standard \n",
       "methods where no Bayesian framework is used.\n",
       "\n",
       "### Step <span style=\"color: #008080; text-decoration-color: #008080; font-weight: bold\">4</span>: Analyze Specific Results\n",
       "- The results of the Bayesian analysis indicated no significant difference between the two treatments <span style=\"font-weight: bold\">(</span>weighted \n",
       "mean difference of <span style=\"color: #008080; text-decoration-color: #008080; font-weight: bold\">-0.27</span> with confidence intervals<span style=\"font-weight: bold\">)</span>. This suggests that Bayesian methods were used to quantify \n",
       "uncertainty and infer probabilities regarding treatment efficacy.\n",
       "- The standard indirect comparisons of adverse events were analyzed separately and did not show significant \n",
       "differences, indicating these comparisons were done using standard statistical methods without Bayesian inference.\n",
       "\n",
       "### Step <span style=\"color: #008080; text-decoration-color: #008080; font-weight: bold\">5</span>: Assess the Context of Bayesian Inference\n",
       "Bayesian inference often involves updating the probability of a hypothesis as more evidence becomes available. In \n",
       "this context:\n",
       "- The Bayesian approach in the meta-analysis likely involved using prior distributions and incorporating them with \n",
       "data from the studies included in the meta-analysis to derive posterior distributions for the treatment effects.\n",
       "- The adjustment for baseline scores in the Bayesian analysis indicates a robust incorporation of prior knowledge \n",
       "into the model, which is a hallmark of Bayesian reasoning.\n",
       "\n",
       "### Step <span style=\"color: #008080; text-decoration-color: #008080; font-weight: bold\">6</span>: Conclusion\n",
       "The article **explicitly** uses Bayesian inference in its methodology through the mention of <span style=\"color: #008000; text-decoration-color: #008000\">\"indirect Bayesian </span>\n",
       "<span style=\"color: #008000; text-decoration-color: #008000\">analysis.\"</span> This is evidenced by the specific results reported from this analysis and the context in which the \n",
       "Bayesian methods were applied <span style=\"font-weight: bold\">(</span>adjusting for baseline scores<span style=\"font-weight: bold\">)</span>. The findings from the Bayesian approach provided \n",
       "insights that were not obtained from the standard methods alone, thus highlighting the value of employing Bayesian \n",
       "statistics in this meta-analysis.\n",
       "\n",
       "In summary:\n",
       "- **Explicit Use of Bayesian Inference**: Yes, indicated by the phrase <span style=\"color: #008000; text-decoration-color: #008000\">\"indirect Bayesian analysis\"</span> in the \n",
       "abstract.\n",
       "- **Key Statistical Methods**: Mixed model repeated measures for traditional analysis; Bayesian methods for \n",
       "indirect comparisons.\n",
       "- **Reasoning Patterns**: Bayesian analysis provided a framework for incorporating prior information and assessing \n",
       "treatment effects, which is a significant aspect of the methodology.\n",
       "</pre>\n"
      ],
      "text/plain": [
       "To analyze whether the article explicitly or implicitly uses Bayesian inference in its methodology, we can break \n",
       "down the information provided in the abstract step-by-step. \n",
       "\n",
       "### Step \u001b[1;36m1\u001b[0m: Identify the Purpose of the Study\n",
       "The meta-analysis compares the efficacy and safety of two medications, desvenlafaxine and venlafaxine, for treating\n",
       "major depression. \n",
       "\n",
       "### Step \u001b[1;36m2\u001b[0m: Identify the Statistical Methods Used\n",
       "The abstract mentions that both \u001b[32m\"standard and Bayesian methods were used to conduct the indirect comparisons.\"\u001b[0m This\n",
       "is a key indication that Bayesian inference is part of the methodology.\n",
       "\n",
       "### Step \u001b[1;36m3\u001b[0m: Examine the Findings\n",
       "- **Mixed Model Repeated Measures Analysis**: The use of this method suggests a traditional frequentist approach to\n",
       "analyzing the mean changes in Hamilton Rating Scale scores for both drugs.\n",
       "- **Indirect Bayesian Analysis**: The mention of an \u001b[32m\"indirect Bayesian analysis\"\u001b[0m that adjusted for baseline \n",
       "Hamilton Rating Scale scores indicates an explicit use of Bayesian methodology. This contrasts with the standard \n",
       "methods where no Bayesian framework is used.\n",
       "\n",
       "### Step \u001b[1;36m4\u001b[0m: Analyze Specific Results\n",
       "- The results of the Bayesian analysis indicated no significant difference between the two treatments \u001b[1m(\u001b[0mweighted \n",
       "mean difference of \u001b[1;36m-0.27\u001b[0m with confidence intervals\u001b[1m)\u001b[0m. This suggests that Bayesian methods were used to quantify \n",
       "uncertainty and infer probabilities regarding treatment efficacy.\n",
       "- The standard indirect comparisons of adverse events were analyzed separately and did not show significant \n",
       "differences, indicating these comparisons were done using standard statistical methods without Bayesian inference.\n",
       "\n",
       "### Step \u001b[1;36m5\u001b[0m: Assess the Context of Bayesian Inference\n",
       "Bayesian inference often involves updating the probability of a hypothesis as more evidence becomes available. In \n",
       "this context:\n",
       "- The Bayesian approach in the meta-analysis likely involved using prior distributions and incorporating them with \n",
       "data from the studies included in the meta-analysis to derive posterior distributions for the treatment effects.\n",
       "- The adjustment for baseline scores in the Bayesian analysis indicates a robust incorporation of prior knowledge \n",
       "into the model, which is a hallmark of Bayesian reasoning.\n",
       "\n",
       "### Step \u001b[1;36m6\u001b[0m: Conclusion\n",
       "The article **explicitly** uses Bayesian inference in its methodology through the mention of \u001b[32m\"indirect Bayesian \u001b[0m\n",
       "\u001b[32manalysis.\"\u001b[0m This is evidenced by the specific results reported from this analysis and the context in which the \n",
       "Bayesian methods were applied \u001b[1m(\u001b[0madjusting for baseline scores\u001b[1m)\u001b[0m. The findings from the Bayesian approach provided \n",
       "insights that were not obtained from the standard methods alone, thus highlighting the value of employing Bayesian \n",
       "statistics in this meta-analysis.\n",
       "\n",
       "In summary:\n",
       "- **Explicit Use of Bayesian Inference**: Yes, indicated by the phrase \u001b[32m\"indirect Bayesian analysis\"\u001b[0m in the \n",
       "abstract.\n",
       "- **Key Statistical Methods**: Mixed model repeated measures for traditional analysis; Bayesian methods for \n",
       "indirect comparisons.\n",
       "- **Reasoning Patterns**: Bayesian analysis provided a framework for incorporating prior information and assessing \n",
       "treatment effects, which is a significant aspect of the methodology.\n"
      ]
     },
     "metadata": {},
     "output_type": "display_data"
    }
   ],
   "source": [
    "template = ChatPromptTemplate([\n",
    "    (\"system\", \"You are a knowledgeable bioinformatician specializing in statistics and data science.\"),\n",
    "    (\"human\", \n",
    "        \"Analyze the abstract and provide a step-by-step explanation of whether the article explicitly or implicitly uses Bayesian inference in its methodology. \"\n",
    "        \"Focus on identifying key statistical methods and reasoning patterns:\\n{abstract}\"\n",
    "    ),\n",
    "    (\"ai\", \"Certainly, here is my step-by-step analysis:\"),\n",
    "])\n",
    "chain =  read_abstract | template | llm | parser\n",
    "console.print(chain.invoke(\"22883424\"))"
   ]
  },
  {
   "cell_type": "markdown",
   "metadata": {},
   "source": [
    "# Multiple LLM calls\n",
    "You can combine multiple LLM calls in a chain."
   ]
  },
  {
   "cell_type": "code",
   "execution_count": 22,
   "metadata": {},
   "outputs": [
    {
     "data": {
      "text/plain": [
       "True"
      ]
     },
     "execution_count": 22,
     "metadata": {},
     "output_type": "execute_result"
    }
   ],
   "source": [
    "yes_no_template = ChatPromptTemplate([\n",
    "    (\"system\", \"You are a critical evaluator of text.\"),\n",
    "    (\"human\", \"Based on the following step-by-step analysis, did it affirmatively conclude that Bayesian inference was used? Answer with 'Y' or 'N' only:\\n{analysis}\"),\n",
    "    (\"ai\", \"Certainly, here is my response:\"),\n",
    "])\n",
    "\n",
    "def yes_no_parser(text:str) -> bool:\n",
    "    return text.strip().lower() == \"y\"\n",
    "\n",
    "complex_chain = chain | yes_no_template | llm | StrOutputParser() | yes_no_parser\n",
    "complex_chain.invoke(\"22883424\")"
   ]
  },
  {
   "cell_type": "markdown",
   "metadata": {},
   "source": [
    "# Forking chains\n",
    "Now, let's combine that chain with another one to get a boolean value of whether or not the article used Bayesian inference."
   ]
  },
  {
   "cell_type": "code",
   "execution_count": 25,
   "metadata": {},
   "outputs": [
    {
     "data": {
      "text/html": [
       "<pre style=\"white-space:pre;overflow-x:auto;line-height:normal;font-family:Menlo,'DejaVu Sans Mono',consolas,'Courier New',monospace\"><span style=\"font-weight: bold\">{</span>\n",
       "    <span style=\"color: #008000; text-decoration-color: #008000\">'is_bayesian'</span>: <span style=\"color: #00ff00; text-decoration-color: #00ff00; font-style: italic\">True</span>,\n",
       "    <span style=\"color: #008000; text-decoration-color: #008000\">'justification'</span>: <span style=\"color: #008000; text-decoration-color: #008000\">'To determine whether the article explicitly or implicitly uses Bayesian inference in its </span>\n",
       "<span style=\"color: #008000; text-decoration-color: #008000\">methodology, we will break down the abstract step-by-step and identify key statistical methods and reasoning </span>\n",
       "<span style=\"color: #008000; text-decoration-color: #008000\">patterns.\\n\\n### Step 1: Identify the Purpose of the Study\\nThe study is a meta-analysis comparing the efficacy and</span>\n",
       "<span style=\"color: #008000; text-decoration-color: #008000\">safety of two antidepressants: desvenlafaxine and venlafaxine. The primary outcome measure is the mean change in </span>\n",
       "<span style=\"color: #008000; text-decoration-color: #008000\">the Hamilton Rating Scale for Depression-17 score.\\n\\n### Step 2: Outline the Comparative Methods\\nThe abstract </span>\n",
       "<span style=\"color: #008000; text-decoration-color: #008000\">mentions that both standard and Bayesian methods were used to conduct indirect comparisons. This is a critical </span>\n",
       "<span style=\"color: #008000; text-decoration-color: #008000\">point as it indicates that Bayesian methods were explicitly acknowledged in the study methodology.\\n\\n### Step 3: </span>\n",
       "<span style=\"color: #008000; text-decoration-color: #008000\">Analyze the Findings Related to Bayesian Analysis\\n- **Indirect Bayesian Analysis**: The abstract states that an </span>\n",
       "<span style=\"color: #008000; text-decoration-color: #008000\">“indirect Bayesian analysis adjusted for baseline Hamilton Rating Scale for Depression-17 score” was performed. </span>\n",
       "<span style=\"color: #008000; text-decoration-color: #008000\">This suggests that Bayesian techniques were applied to adjust for baseline differences, which is typical in </span>\n",
       "<span style=\"color: #008000; text-decoration-color: #008000\">Bayesian analyses where prior information is incorporated.\\n- **Results from Bayesian Analysis**: The result from </span>\n",
       "<span style=\"color: #008000; text-decoration-color: #008000\">this analysis shows no significant difference between the two treatments, with a weighted mean difference of -0.27 </span>\n",
       "<span style=\"color: #008000; text-decoration-color: #008000\">and a confidence interval that includes 0 (-1.17, 0.65). This is indicative of the Bayesian approach, which often </span>\n",
       "<span style=\"color: #008000; text-decoration-color: #008000\">presents results in terms of posterior distributions and credible intervals.\\n\\n### Step 4: Compare to Standard </span>\n",
       "<span style=\"color: #008000; text-decoration-color: #008000\">Methods\\n- The abstract also mentions that standard indirect comparisons were made for adverse events, which </span>\n",
       "<span style=\"color: #008000; text-decoration-color: #008000\">yielded non-significant results. This highlights a contrast between standard frequentist methods and Bayesian </span>\n",
       "<span style=\"color: #008000; text-decoration-color: #008000\">methods, providing a fuller picture of the analysis.\\n  \\n### Step 5: Examine the Statistical Terms Used\\n- The use</span>\n",
       "<span style=\"color: #008000; text-decoration-color: #008000\">of “relative risk” and “risk difference” in the context of standard comparisons indicates traditional statistical </span>\n",
       "<span style=\"color: #008000; text-decoration-color: #008000\">methods. However, the mention of the Bayesian analysis shows a deliberate application of alternative statistical </span>\n",
       "<span style=\"color: #008000; text-decoration-color: #008000\">reasoning that can incorporate prior knowledge and provide a different perspective on uncertainty.\\n\\n### Step 6: </span>\n",
       "<span style=\"color: #008000; text-decoration-color: #008000\">Assess Implicit Use of Bayesian Inference\\nEven though the article explicitly states the use of Bayesian methods, </span>\n",
       "<span style=\"color: #008000; text-decoration-color: #008000\">it also implicitly suggests that Bayesian reasoning might influence the interpretation of results, especially given</span>\n",
       "<span style=\"color: #008000; text-decoration-color: #008000\">the non-inferiority claim of desvenlafaxine to venlafaxine. The posterior probabilities and credible intervals </span>\n",
       "<span style=\"color: #008000; text-decoration-color: #008000\">derived from Bayesian analysis can often lead to different interpretations compared to p-values from frequentist </span>\n",
       "<span style=\"color: #008000; text-decoration-color: #008000\">methods.\\n\\n### Step 7: Conclusion\\nIn summary, the article explicitly uses Bayesian inference in its methodology </span>\n",
       "<span style=\"color: #008000; text-decoration-color: #008000\">by stating that Bayesian methods were employed for indirect comparisons. The findings from the Bayesian analysis </span>\n",
       "<span style=\"color: #008000; text-decoration-color: #008000\">suggest no significant difference between the two treatments, which contrasts with the results from standard </span>\n",
       "<span style=\"color: #008000; text-decoration-color: #008000\">methods. Thus, the study employs both inference frameworks, but the explicit mention of Bayesian analysis confirms </span>\n",
       "<span style=\"color: #008000; text-decoration-color: #008000\">its role in the methodology.\\n\\n### Summary\\n- **Explicit Use**: Bayesian methods mentioned for indirect </span>\n",
       "<span style=\"color: #008000; text-decoration-color: #008000\">comparisons.\\n- **Key Findings**: Bayesian analysis showed no significant difference in efficacy.\\n- **Contrasted </span>\n",
       "<span style=\"color: #008000; text-decoration-color: #008000\">with**: Standard statistical methods for adverse events.\\n- **Implications**: Bayesian reasoning potentially </span>\n",
       "<span style=\"color: #008000; text-decoration-color: #008000\">affects interpretation of treatment efficacy and safety.\\n\\nThis stepwise breakdown confirms that the article </span>\n",
       "<span style=\"color: #008000; text-decoration-color: #008000\">clearly incorporates Bayesian inference as a fundamental part of its methodology while also highlighting the value </span>\n",
       "<span style=\"color: #008000; text-decoration-color: #008000\">of applying both Bayesian and standard statistical approaches.'</span>\n",
       "<span style=\"font-weight: bold\">}</span>\n",
       "</pre>\n"
      ],
      "text/plain": [
       "\u001b[1m{\u001b[0m\n",
       "    \u001b[32m'is_bayesian'\u001b[0m: \u001b[3;92mTrue\u001b[0m,\n",
       "    \u001b[32m'justification'\u001b[0m: \u001b[32m'To determine whether the article explicitly or implicitly uses Bayesian inference in its \u001b[0m\n",
       "\u001b[32mmethodology, we will break down the abstract step-by-step and identify key statistical methods and reasoning \u001b[0m\n",
       "\u001b[32mpatterns.\\n\\n### Step 1: Identify the Purpose of the Study\\nThe study is a meta-analysis comparing the efficacy and\u001b[0m\n",
       "\u001b[32msafety of two antidepressants: desvenlafaxine and venlafaxine. The primary outcome measure is the mean change in \u001b[0m\n",
       "\u001b[32mthe Hamilton Rating Scale for Depression-17 score.\\n\\n### Step 2: Outline the Comparative Methods\\nThe abstract \u001b[0m\n",
       "\u001b[32mmentions that both standard and Bayesian methods were used to conduct indirect comparisons. This is a critical \u001b[0m\n",
       "\u001b[32mpoint as it indicates that Bayesian methods were explicitly acknowledged in the study methodology.\\n\\n### Step 3: \u001b[0m\n",
       "\u001b[32mAnalyze the Findings Related to Bayesian Analysis\\n- **Indirect Bayesian Analysis**: The abstract states that an \u001b[0m\n",
       "\u001b[32m“indirect Bayesian analysis adjusted for baseline Hamilton Rating Scale for Depression-17 score” was performed. \u001b[0m\n",
       "\u001b[32mThis suggests that Bayesian techniques were applied to adjust for baseline differences, which is typical in \u001b[0m\n",
       "\u001b[32mBayesian analyses where prior information is incorporated.\\n- **Results from Bayesian Analysis**: The result from \u001b[0m\n",
       "\u001b[32mthis analysis shows no significant difference between the two treatments, with a weighted mean difference of -0.27 \u001b[0m\n",
       "\u001b[32mand a confidence interval that includes 0 \u001b[0m\u001b[32m(\u001b[0m\u001b[32m-1.17, 0.65\u001b[0m\u001b[32m)\u001b[0m\u001b[32m. This is indicative of the Bayesian approach, which often \u001b[0m\n",
       "\u001b[32mpresents results in terms of posterior distributions and credible intervals.\\n\\n### Step 4: Compare to Standard \u001b[0m\n",
       "\u001b[32mMethods\\n- The abstract also mentions that standard indirect comparisons were made for adverse events, which \u001b[0m\n",
       "\u001b[32myielded non-significant results. This highlights a contrast between standard frequentist methods and Bayesian \u001b[0m\n",
       "\u001b[32mmethods, providing a fuller picture of the analysis.\\n  \\n### Step 5: Examine the Statistical Terms Used\\n- The use\u001b[0m\n",
       "\u001b[32mof “relative risk” and “risk difference” in the context of standard comparisons indicates traditional statistical \u001b[0m\n",
       "\u001b[32mmethods. However, the mention of the Bayesian analysis shows a deliberate application of alternative statistical \u001b[0m\n",
       "\u001b[32mreasoning that can incorporate prior knowledge and provide a different perspective on uncertainty.\\n\\n### Step 6: \u001b[0m\n",
       "\u001b[32mAssess Implicit Use of Bayesian Inference\\nEven though the article explicitly states the use of Bayesian methods, \u001b[0m\n",
       "\u001b[32mit also implicitly suggests that Bayesian reasoning might influence the interpretation of results, especially given\u001b[0m\n",
       "\u001b[32mthe non-inferiority claim of desvenlafaxine to venlafaxine. The posterior probabilities and credible intervals \u001b[0m\n",
       "\u001b[32mderived from Bayesian analysis can often lead to different interpretations compared to p-values from frequentist \u001b[0m\n",
       "\u001b[32mmethods.\\n\\n### Step 7: Conclusion\\nIn summary, the article explicitly uses Bayesian inference in its methodology \u001b[0m\n",
       "\u001b[32mby stating that Bayesian methods were employed for indirect comparisons. The findings from the Bayesian analysis \u001b[0m\n",
       "\u001b[32msuggest no significant difference between the two treatments, which contrasts with the results from standard \u001b[0m\n",
       "\u001b[32mmethods. Thus, the study employs both inference frameworks, but the explicit mention of Bayesian analysis confirms \u001b[0m\n",
       "\u001b[32mits role in the methodology.\\n\\n### Summary\\n- **Explicit Use**: Bayesian methods mentioned for indirect \u001b[0m\n",
       "\u001b[32mcomparisons.\\n- **Key Findings**: Bayesian analysis showed no significant difference in efficacy.\\n- **Contrasted \u001b[0m\n",
       "\u001b[32mwith**: Standard statistical methods for adverse events.\\n- **Implications**: Bayesian reasoning potentially \u001b[0m\n",
       "\u001b[32maffects interpretation of treatment efficacy and safety.\\n\\nThis stepwise breakdown confirms that the article \u001b[0m\n",
       "\u001b[32mclearly incorporates Bayesian inference as a fundamental part of its methodology while also highlighting the value \u001b[0m\n",
       "\u001b[32mof applying both Bayesian and standard statistical approaches.'\u001b[0m\n",
       "\u001b[1m}\u001b[0m\n"
      ]
     },
     "metadata": {},
     "output_type": "display_data"
    }
   ],
   "source": [
    "from langchain_core.runnables import RunnablePassthrough\n",
    "\n",
    "forked_chain = chain | dict(\n",
    "    is_bayesian=RunnablePassthrough() | yes_no_template | llm | StrOutputParser() | yes_no_parser,\n",
    "    justification=RunnablePassthrough(),\n",
    ")\n",
    "\n",
    "console.print(forked_chain.invoke(\"22883424\"))"
   ]
  },
  {
   "cell_type": "markdown",
   "metadata": {},
   "source": [
    "# Retrieval Augmented Generation (RAG)\n",
    "\n",
    "Let's create a RAG that searches for a relevant articles and answers a question.\n",
    "\n",
    "First we build the database."
   ]
  },
  {
   "cell_type": "code",
   "execution_count": 28,
   "metadata": {},
   "outputs": [],
   "source": [
    "from langchain.embeddings import OpenAIEmbeddings\n",
    "from langchain.schema import Document\n",
    "from langchain.vectorstores import Chroma\n",
    "\n",
    "embeddings_model = OpenAIEmbeddings(model=\"text-embedding-3-small\")\n",
    "\n",
    "embeddings_path = Path(\"embeddings.db\")\n",
    "\n",
    "def build_document(pmid:str) -> Document:\n",
    "    return Document(\n",
    "        page_content=read_abstract(pmid), \n",
    "        metadata=dict(pmid=pmid), # more metadata can be added from the XML file\n",
    "    )\n",
    "\n",
    "if Path(embeddings_path).exists():\n",
    "    db = Chroma(persist_directory=str(embeddings_path), embedding_function=embeddings_model)\n",
    "else:\n",
    "    documents = [build_document(pmid) for pmid in pmids]\n",
    "    db = Chroma.from_documents(\n",
    "        documents=documents, \n",
    "        embedding=embeddings_model, \n",
    "        persist_directory=str(embeddings_path),\n",
    "    )\n"
   ]
  },
  {
   "cell_type": "markdown",
   "metadata": {},
   "source": [
    "# Using the database\n",
    "\n",
    "You can use the database to search for relevant articles."
   ]
  },
  {
   "cell_type": "code",
   "execution_count": 36,
   "metadata": {},
   "outputs": [
    {
     "name": "stdout",
     "output_type": "stream",
     "text": [
      "[Document(metadata={'pmid': '22883424'}, page_content='This meta-analysis compared the efficacy and safety of desvenlafaxine and venlafaxine at the Australian approved doses. A systematic literature search was conducted to identify all placebo-controlled studies of desvenlafaxine and venlafaxine in the treatment of major depression. The pivotal outcome measure used to assess comparative efficacy was the mean change in Hamilton Rating Scale for Depression-17 score from baseline. Tolerability and safety were compared by an evaluation of reported adverse events. Standard and Bayesian methods were used to conduct the indirect comparisons.                                       Findings               Using a mixed model repeated measures analysis, the pooled weighted mean difference for the mean change in Hamilton Rating Scale for Depression-17 score from baseline was -2.81 (-3.72, -1.91; p < 0.001) for desvenlafaxine and -2.61 (-3.17, -2.05; p < 0.001) for venlafaxine. An indirect Bayesian analysis adjusted for baseline Hamilton Rating Scale for Depression-17 score showed no significant difference between the two treatments (weighted mean difference -0.27; -1.17, 0.65). A standard indirect comparison of any adverse events showed no significant difference between desvenlafaxine and venlafaxine (relative risk 1.01; 0.96, 1.06; p = 0.70 and risk difference -0.01; -0.05, 0.03; p = 0.59). Standard indirect comparisons of both nausea and drop-outs identified potential differences between treatments, with the risk difference analyses suggesting a trend in favor of desvenlafaxine (nausea: relative risk 0.97; 0.77, 1.22; p = 0.80/RD -0.07; -0.12, -0.01; p = 0.02; and drop-outs due to adverse events: RR 0.86; 0.58, 1.29; p = 0.48/RD -0.04; -0.08, 0.00; p = 0.06). Based on the results of this meta-analysis, desvenlafaxine was shown to be non-inferior to venlafaxine in terms of efficacy, and has an advantage in terms of less nausea.')]\n"
     ]
    }
   ],
   "source": [
    "print(db.similarity_search(\"Australia\", k=1))"
   ]
  },
  {
   "cell_type": "markdown",
   "metadata": {},
   "source": [
    "# Building a simple RAG chain"
   ]
  },
  {
   "cell_type": "code",
   "execution_count": 35,
   "metadata": {},
   "outputs": [
    {
     "data": {
      "text/html": [
       "<pre style=\"white-space:pre;overflow-x:auto;line-height:normal;font-family:Menlo,'DejaVu Sans Mono',consolas,'Courier New',monospace\">The role of therapeutic anticoagulation in treating COVID-<span style=\"color: #008080; text-decoration-color: #008080; font-weight: bold\">19</span>, particularly in noncritically ill hospitalized \n",
       "patients, is to improve clinical outcomes by reducing the risk of complications associated with thrombosis and \n",
       "inflammation. A study indicated that administering therapeutic-dose anticoagulation with heparin, as opposed to \n",
       "usual-care pharmacologic thromboprophylaxis, significantly increased the probability of survival to hospital \n",
       "discharge without the need for cardiovascular or respiratory organ support. The trial demonstrated a <span style=\"color: #008080; text-decoration-color: #008080; font-weight: bold\">98.6</span>% \n",
       "probability that therapeutic anticoagulation enhanced organ support-free days, with an adjusted odds ratio of <span style=\"color: #008080; text-decoration-color: #008080; font-weight: bold\">1.27</span>.\n",
       "Additionally, there was a <span style=\"color: #008080; text-decoration-color: #008080; font-weight: bold\">4.0</span> percentage point increase in the likelihood of survival without organ support in \n",
       "favor of therapeutic anticoagulation. While there is a small risk of major bleeding associated with this treatment \n",
       "<span style=\"font-weight: bold\">(</span><span style=\"color: #008080; text-decoration-color: #008080; font-weight: bold\">1.9</span>% for therapeutic vs. <span style=\"color: #008080; text-decoration-color: #008080; font-weight: bold\">0.9</span>% for thromboprophylaxis<span style=\"font-weight: bold\">)</span>, the overall benefits in improving patient outcomes support \n",
       "the use of therapeutic anticoagulation in this patient population.\n",
       "</pre>\n"
      ],
      "text/plain": [
       "The role of therapeutic anticoagulation in treating COVID-\u001b[1;36m19\u001b[0m, particularly in noncritically ill hospitalized \n",
       "patients, is to improve clinical outcomes by reducing the risk of complications associated with thrombosis and \n",
       "inflammation. A study indicated that administering therapeutic-dose anticoagulation with heparin, as opposed to \n",
       "usual-care pharmacologic thromboprophylaxis, significantly increased the probability of survival to hospital \n",
       "discharge without the need for cardiovascular or respiratory organ support. The trial demonstrated a \u001b[1;36m98.6\u001b[0m% \n",
       "probability that therapeutic anticoagulation enhanced organ support-free days, with an adjusted odds ratio of \u001b[1;36m1.27\u001b[0m.\n",
       "Additionally, there was a \u001b[1;36m4.0\u001b[0m percentage point increase in the likelihood of survival without organ support in \n",
       "favor of therapeutic anticoagulation. While there is a small risk of major bleeding associated with this treatment \n",
       "\u001b[1m(\u001b[0m\u001b[1;36m1.9\u001b[0m% for therapeutic vs. \u001b[1;36m0.9\u001b[0m% for thromboprophylaxis\u001b[1m)\u001b[0m, the overall benefits in improving patient outcomes support \n",
       "the use of therapeutic anticoagulation in this patient population.\n"
      ]
     },
     "metadata": {},
     "output_type": "display_data"
    }
   ],
   "source": [
    "context_count = 2\n",
    "retriever = db.as_retriever(search_kwargs={\"k\": context_count})\n",
    "rag_template = ChatPromptTemplate([\n",
    "    (\"system\", \"You are a bioinformatician with experience in statistics and data science.\"),\n",
    "    (\"human\", \n",
    "        \"Answer the question '{question}' based on the context which contains abstracts of journal articles.\\n\"\n",
    "        \"Context:\\n{context}\\nQuestion:\\n{question}\"\n",
    "    ),\n",
    "    (\"ai\", \"Certainly, here is my answer:\"),\n",
    "])\n",
    "rag_chain = (\n",
    "    {\"context\": retriever, \"question\": RunnablePassthrough()}\n",
    "    | rag_template\n",
    "    | llm\n",
    "    | StrOutputParser()\n",
    ")\n",
    "console.print(rag_chain.invoke(\"What is the role of therapeutic anticoagulation for treating COVID-19?\"))"
   ]
  },
  {
   "cell_type": "markdown",
   "metadata": {},
   "source": [
    "# Building a RAG chain which cites the source"
   ]
  },
  {
   "cell_type": "code",
   "execution_count": 38,
   "metadata": {},
   "outputs": [
    {
     "data": {
      "text/plain": [
       "'\\n\\n[34351721] Thrombosis and inflammation may contribute to the risk of death and complications among patients with coronavirus disease 2019 (Covid-19). We hypothesized that therapeutic-dose anticoagulation may improve outcomes in noncritically ill patients who are hospitalized with Covid-19. In this open-label, adaptive, multiplatform, controlled trial, we randomly assigned patients who were hospitalized with Covid-19 and who were not critically ill (which was defined as an absence of critical care-level organ support at enrollment) to receive pragmatically defined regimens of either therapeutic-dose anticoagulation with heparin or usual-care pharmacologic thromboprophylaxis. The primary outcome was organ support-free days, evaluated on an ordinal scale that combined in-hospital death (assigned a value of -1) and the number of days free of cardiovascular or respiratory organ support up to day 21 among patients who survived to hospital discharge. This outcome was evaluated with the use of a Bayesian statistical model for all patients and according to the baseline d-dimer level. The trial was stopped when prespecified criteria for the superiority of therapeutic-dose anticoagulation were met. Among 2219 patients in the final analysis, the probability that therapeutic-dose anticoagulation increased organ support-free days as compared with usual-care thromboprophylaxis was 98.6% (adjusted odds ratio, 1.27; 95% credible interval, 1.03 to 1.58). The adjusted absolute between-group difference in survival until hospital discharge without organ support favoring therapeutic-dose anticoagulation was 4.0 percentage points (95% credible interval, 0.5 to 7.2). The final probability of the superiority of therapeutic-dose anticoagulation over usual-care thromboprophylaxis was 97.3% in the high d-dimer cohort, 92.9% in the low d-dimer cohort, and 97.3% in the unknown d-dimer cohort. Major bleeding occurred in 1.9% of the patients receiving therapeutic-dose anticoagulation and in 0.9% of those receiving thromboprophylaxis. In noncritically ill patients with Covid-19, an initial strategy of therapeutic-dose anticoagulation with heparin increased the probability of survival to hospital discharge with reduced use of cardiovascular or respiratory organ support as compared with usual-care thromboprophylaxis. (ATTACC, ACTIV-4a, and REMAP-CAP ClinicalTrials.gov numbers, NCT04372589, NCT04505774, NCT04359277, and NCT02735707.).\\n\\n[22883424] This meta-analysis compared the efficacy and safety of desvenlafaxine and venlafaxine at the Australian approved doses. A systematic literature search was conducted to identify all placebo-controlled studies of desvenlafaxine and venlafaxine in the treatment of major depression. The pivotal outcome measure used to assess comparative efficacy was the mean change in Hamilton Rating Scale for Depression-17 score from baseline. Tolerability and safety were compared by an evaluation of reported adverse events. Standard and Bayesian methods were used to conduct the indirect comparisons.                                       Findings               Using a mixed model repeated measures analysis, the pooled weighted mean difference for the mean change in Hamilton Rating Scale for Depression-17 score from baseline was -2.81 (-3.72, -1.91; p < 0.001) for desvenlafaxine and -2.61 (-3.17, -2.05; p < 0.001) for venlafaxine. An indirect Bayesian analysis adjusted for baseline Hamilton Rating Scale for Depression-17 score showed no significant difference between the two treatments (weighted mean difference -0.27; -1.17, 0.65). A standard indirect comparison of any adverse events showed no significant difference between desvenlafaxine and venlafaxine (relative risk 1.01; 0.96, 1.06; p = 0.70 and risk difference -0.01; -0.05, 0.03; p = 0.59). Standard indirect comparisons of both nausea and drop-outs identified potential differences between treatments, with the risk difference analyses suggesting a trend in favor of desvenlafaxine (nausea: relative risk 0.97; 0.77, 1.22; p = 0.80/RD -0.07; -0.12, -0.01; p = 0.02; and drop-outs due to adverse events: RR 0.86; 0.58, 1.29; p = 0.48/RD -0.04; -0.08, 0.00; p = 0.06). Based on the results of this meta-analysis, desvenlafaxine was shown to be non-inferior to venlafaxine in terms of efficacy, and has an advantage in terms of less nausea.'"
      ]
     },
     "execution_count": 38,
     "metadata": {},
     "output_type": "execute_result"
    }
   ],
   "source": [
    "def format_docs(docs):\n",
    "    text = \"\"\n",
    "    for doc in docs:\n",
    "        text += f\"\\n\\n[{doc.metadata['pmid']}] {doc.page_content}\"\n",
    "    \n",
    "    return text\n",
    "\n",
    "context_chain = retriever | format_docs\n",
    "\n",
    "context_chain.invoke(\"What is the role of therapeutic anticoagulation for treating COVID-19?\")"
   ]
  },
  {
   "cell_type": "code",
   "execution_count": 39,
   "metadata": {},
   "outputs": [
    {
     "data": {
      "text/html": [
       "<pre style=\"white-space:pre;overflow-x:auto;line-height:normal;font-family:Menlo,'DejaVu Sans Mono',consolas,'Courier New',monospace\">The role of therapeutic anticoagulation in treating COVID-<span style=\"color: #008080; text-decoration-color: #008080; font-weight: bold\">19</span>, particularly in noncritically ill hospitalized \n",
       "patients, is to improve outcomes by increasing the probability of survival to hospital discharge with reduced need \n",
       "for cardiovascular or respiratory organ support. A study indicated that therapeutic-dose anticoagulation with \n",
       "heparin significantly increased organ support-free days compared to usual-care pharmacologic thromboprophylaxis, \n",
       "with a probability of superiority reaching <span style=\"color: #008080; text-decoration-color: #008080; font-weight: bold\">98.6</span>%. This approach may also favorably impact survival rates, \n",
       "particularly in patients with elevated d-dimer levels. However, it is important to note that there is a risk of \n",
       "major bleeding associated with therapeutic anticoagulation, occurring in <span style=\"color: #008080; text-decoration-color: #008080; font-weight: bold\">1.9</span>% of patients compared to <span style=\"color: #008080; text-decoration-color: #008080; font-weight: bold\">0.9</span>% in those\n",
       "receiving thromboprophylaxis. \n",
       "\n",
       "This information is based on the findings from article ID <span style=\"font-weight: bold\">[</span><span style=\"color: #008080; text-decoration-color: #008080; font-weight: bold\">34351721</span><span style=\"font-weight: bold\">]</span>.\n",
       "</pre>\n"
      ],
      "text/plain": [
       "The role of therapeutic anticoagulation in treating COVID-\u001b[1;36m19\u001b[0m, particularly in noncritically ill hospitalized \n",
       "patients, is to improve outcomes by increasing the probability of survival to hospital discharge with reduced need \n",
       "for cardiovascular or respiratory organ support. A study indicated that therapeutic-dose anticoagulation with \n",
       "heparin significantly increased organ support-free days compared to usual-care pharmacologic thromboprophylaxis, \n",
       "with a probability of superiority reaching \u001b[1;36m98.6\u001b[0m%. This approach may also favorably impact survival rates, \n",
       "particularly in patients with elevated d-dimer levels. However, it is important to note that there is a risk of \n",
       "major bleeding associated with therapeutic anticoagulation, occurring in \u001b[1;36m1.9\u001b[0m% of patients compared to \u001b[1;36m0.9\u001b[0m% in those\n",
       "receiving thromboprophylaxis. \n",
       "\n",
       "This information is based on the findings from article ID \u001b[1m[\u001b[0m\u001b[1;36m34351721\u001b[0m\u001b[1m]\u001b[0m.\n"
      ]
     },
     "metadata": {},
     "output_type": "display_data"
    }
   ],
   "source": [
    "cite_rag_template = ChatPromptTemplate([\n",
    "    (\"system\", \"You are a bioinformatician with experience in statistics and data science.\"),\n",
    "    (\"human\", \n",
    "        \"Answer the question '{question}' based on the context which contains abstracts of journal articles.\\n\"\n",
    "        \"Cite the ID of the article in your response.\\n\"\n",
    "        \"Context:\\n{context}\\nQuestion:\\n{question}\"\n",
    "    ),\n",
    "    (\"ai\", \"Certainly, here is my answer:\"),\n",
    "])\n",
    "cite_rag_chain = (\n",
    "    {\"context\": context_chain, \"question\": RunnablePassthrough()}\n",
    "    | rag_template\n",
    "    | llm\n",
    "    | StrOutputParser()\n",
    ")\n",
    "console.print(cite_rag_chain.invoke(\"What is the role of therapeutic anticoagulation for treating COVID-19?\"))"
   ]
  }
 ],
 "metadata": {
  "kernelspec": {
   "display_name": ".venv",
   "language": "python",
   "name": "python3"
  },
  "language_info": {
   "codemirror_mode": {
    "name": "ipython",
    "version": 3
   },
   "file_extension": ".py",
   "mimetype": "text/x-python",
   "name": "python",
   "nbconvert_exporter": "python",
   "pygments_lexer": "ipython3",
   "version": "3.11.6"
  }
 },
 "nbformat": 4,
 "nbformat_minor": 2
}
